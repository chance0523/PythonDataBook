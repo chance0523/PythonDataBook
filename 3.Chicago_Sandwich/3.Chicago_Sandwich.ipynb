{
 "cells": [
  {
   "cell_type": "markdown",
   "metadata": {},
   "source": [
    "https://www.chicagomag.com/Chicago-Magazine/November-2012/Best-Sandwiches-Chicago/"
   ]
  },
  {
   "cell_type": "markdown",
   "metadata": {},
   "source": [
    "### 1. 시카고 샌드위치 맛집 소개 사이트에 접근하기"
   ]
  },
  {
   "cell_type": "code",
   "execution_count": 1,
   "metadata": {},
   "outputs": [],
   "source": [
    "from bs4 import BeautifulSoup\n",
    "from urllib.request import urlopen"
   ]
  },
  {
   "cell_type": "code",
   "execution_count": 2,
   "metadata": {},
   "outputs": [],
   "source": [
    "url_base = 'https://www.chicagomag.com/'\n",
    "url_sub = 'Chicago-Magazine/November-2012/Best-Sandwiches-Chicago/'\n",
    "url = url_base + url_sub\n",
    "\n",
    "html = urlopen(url)\n",
    "soup = BeautifulSoup(html, \"html.parser\")\n",
    "\n",
    "# soup"
   ]
  },
  {
   "cell_type": "code",
   "execution_count": 3,
   "metadata": {},
   "outputs": [
    {
     "name": "stdout",
     "output_type": "stream",
     "text": [
      "[<div class=\"sammy\" style=\"position: relative;\">\n",
      "<div class=\"sammyRank\">1</div>\n",
      "<div class=\"sammyListing\"><a href=\"/Chicago-Magazine/November-2012/Best-Sandwiches-in-Chicago-Old-Oak-Tap-BLT/\"><b>BLT</b><br>\r\n",
      "Old Oak Tap<br>\n",
      "<em>Read more</em> </br></br></a></div>\n",
      "</div>, <div class=\"sammy\" style=\"position: relative;\">\n",
      "<div class=\"sammyRank\">2</div>\n",
      "<div class=\"sammyListing\"><a href=\"/Chicago-Magazine/November-2012/Best-Sandwiches-in-Chicago-Au-Cheval-Fried-Bologna/\"><b>Fried Bologna</b><br/>\r\n",
      "Au Cheval<br/>\n",
      "<em>Read more</em> </a></div>\n",
      "</div>, <div class=\"sammy\" style=\"position: relative;\">\n",
      "<div class=\"sammyRank\">3</div>\n",
      "<div class=\"sammyListing\"><a href=\"/Chicago-Magazine/November-2012/Best-Sandwiches-in-Chicago-Xoco-Woodland-Mushroom/\"><b>Woodland Mushroom</b><br/>\r\n",
      "Xoco<br/>\n",
      "<em>Read more</em> </a></div>\n",
      "</div>, <div class=\"sammy\" style=\"position: relative;\">\n",
      "<div class=\"sammyRank\">4</div>\n",
      "<div class=\"sammyListing\"><a href=\"/Chicago-Magazine/November-2012/Best-Sandwiches-in-Chicago-Als-Deli-Roast-Beef/\"><b>Roast Beef</b><br/>\r\n",
      "Al’s Deli<br/>\n",
      "<em>Read more</em> </a></div>\n",
      "</div>, <div class=\"sammy\" style=\"position: relative;\">\n",
      "<div class=\"sammyRank\">5</div>\n",
      "<div class=\"sammyListing\"><a href=\"/Chicago-Magazine/November-2012/Best-Sandwiches-in-Chicago-Publican-Quality-Meats-PB-L/\"><b>PB&amp;L</b><br/>\r\n",
      "Publican Quality Meats<br/>\n",
      "<em>Read more</em> </a></div>\n",
      "</div>, <div class=\"sammy\" style=\"position: relative;\">\n",
      "<div class=\"sammyRank\">6</div>\n",
      "<div class=\"sammyListing\"><a href=\"http://www.chicagomag.com/Chicago-Magazine/November-2012/Best-Sandwiches-in-Chicago-Hendrickx-Belgian-Bread-Crafter-Belgian-Chicken-Curry-Salad/\"><b>Belgian Chicken Curry Salad</b><br/>\r\n",
      "Hendrickx Belgian Bread Crafter<br/>\n",
      "<em>Read more</em> </a></div>\n",
      "</div>, <div class=\"sammy\" style=\"position: relative;\">\n",
      "<div class=\"sammyRank\">7</div>\n",
      "<div class=\"sammyListing\"><a href=\"/Chicago-Magazine/November-2012/Best-Sandwiches-in-Chicago-Acadia-Lobster-Roll/\"><b>Lobster Roll</b><br/>\r\n",
      "Acadia<br/>\n",
      "<em>Read more</em> </a></div>\n",
      "</div>, <div class=\"sammy\" style=\"position: relative;\">\n",
      "<div class=\"sammyRank\">8</div>\n",
      "<div class=\"sammyListing\"><a href=\"/Chicago-Magazine/November-2012/Best-Sandwiches-in-Chicago-Birchwood-Kitchen-Smoked-Salmon-Salad/\"><b>Smoked Salmon Salad</b><br/>\r\n",
      "Birchwood Kitchen<br/>\n",
      "<em>Read more</em> </a></div>\n",
      "</div>, <div class=\"sammy\" style=\"position: relative;\">\n",
      "<div class=\"sammyRank\">9</div>\n",
      "<div class=\"sammyListing\"><a href=\"/Chicago-Magazine/November-2012/Best-Sandwiches-in-Chicago-Cemitas-Puebla-Atomica-Cemitas/\"><b>Atomica Cemitas</b><br/>\r\n",
      "Cemitas Puebla<br/>\n",
      "<em>Read more</em> </a></div>\n",
      "</div>, <div class=\"sammy\" style=\"position: relative;\">\n",
      "<div class=\"sammyRank\">10</div>\n",
      "<div class=\"sammyListing\"><a href=\"/Chicago-Magazine/November-2012/Best-Sandwiches-in-Chicago-Nana-Grilled-Laughing-Bird-Shrimp-and-Fried-Oyster-Po-Boy/\"><b>Grilled Laughing Bird Shrimp and Fried Po’ Boy</b><br/>\r\n",
      "Nana<br/>\n",
      "<em>Read more</em> </a></div>\n",
      "</div>, <div class=\"sammy\" style=\"position: relative;\">\n",
      "<div class=\"sammyRank\">11</div>\n",
      "<div class=\"sammyListing\"><a href=\"http://www.chicagomag.com/Chicago-Magazine/November-2012/Best-Sandwiches-in-Chicago-Lula-Cafe-Ham-and-Raclette-Panino/\"><b>Ham and Raclette Panino</b><br/>\r\n",
      "Lula Cafe<br/>\n",
      "<em>Read more</em> </a></div>\n",
      "</div>, <div class=\"sammy\" style=\"position: relative;\">\n",
      "<div class=\"sammyRank\">12</div>\n",
      "<div class=\"sammyListing\"><a href=\"http://www.chicagomag.com/Chicago-Magazine/November-2012/Best-Sandwiches-in-Chicago-Ricobenes-Breaded-Steak/\"><b>Breaded Steak</b><br/>\r\n",
      "Ricobene’s<br/>\n",
      "<em>Read more</em> </a></div>\n",
      "</div>, <div class=\"sammy\" style=\"position: relative;\">\n",
      "<div class=\"sammyRank\">13</div>\n",
      "<div class=\"sammyListing\"><a href=\"http://www.chicagomag.com/Chicago-Magazine/November-2012/Best-Sandwiches-in-Chicago-Frog-n-Snail-The-Hawkeye/\"><b>The Hawkeye</b><br/>\r\n",
      "Frog n Snail<br/>\n",
      "<em>Read more</em> </a></div>\n",
      "</div>, <div class=\"sammy\" style=\"position: relative;\">\n",
      "<div class=\"sammyRank\">14</div>\n",
      "<div class=\"sammyListing\"><a href=\"http://www.chicagomag.com/Chicago-Magazine/November-2012/Best-Sandwiches-in-Chicago-Crosbys-Kitchen-Chicken-Dip/\"><b>Chicken Dip</b><br/>\r\n",
      "Crosby’s Kitchen<br/>\n",
      "<em>Read more</em> </a></div>\n",
      "</div>, <div class=\"sammy\" style=\"position: relative;\">\n",
      "<div class=\"sammyRank\">15</div>\n",
      "<div class=\"sammyListing\"><a href=\"http://www.chicagomag.com/Chicago-Magazine/November-2012/Best-Sandwiches-in-Chicago-Longman-and-Eagle-Wild-Boar-Sloppy-Joe/\"><b>Wild Boar Sloppy Joe</b><br/>\r\n",
      "Longman &amp; Eagle<br/>\n",
      "<em>Read more</em> </a></div>\n",
      "</div>, <div class=\"sammy\" style=\"position: relative;\">\n",
      "<div class=\"sammyRank\">16</div>\n",
      "<div class=\"sammyListing\"><a href=\"http://www.chicagomag.com/Chicago-Magazine/November-2012/Best-Sandwiches-in-Chicago-Bari-Meatball-Sub/\"><b>Meatball Sub</b><br/>\r\n",
      "Bari<br/>\n",
      "<em>Read more</em> </a></div>\n",
      "</div>, <div class=\"sammy\" style=\"position: relative;\">\n",
      "<div class=\"sammyRank\">17</div>\n",
      "<div class=\"sammyListing\"><a href=\"http://www.chicagomag.com/Chicago-Magazine/November-2012/Best-Sandwiches-in-Chicago-Mannys-Corned-Beef/\"><b>Corned Beef</b><br/>\r\n",
      "Manny’s<br/>\n",
      "<em>Read more</em> </a></div>\n",
      "</div>, <div class=\"sammy\" style=\"position: relative;\">\n",
      "<div class=\"sammyRank\">18</div>\n",
      "<div class=\"sammyListing\"><a href=\"http://www.chicagomag.com/Chicago-Magazine/November-2012/Best-Sandwiches-in-Chicago-Eggys-Turkey-Club/\"><b>Turkey Club</b><br/>\r\n",
      "Eggy’s<br/>\n",
      "<em>Read more</em> </a></div>\n",
      "</div>, <div class=\"sammy\" style=\"position: relative;\">\n",
      "<div class=\"sammyRank\">19</div>\n",
      "<div class=\"sammyListing\"><a href=\"http://www.chicagomag.com/Chicago-Magazine/November-2012/Best-Sandwiches-in-Chicago-Old-Jerusalem-Falafel/\"><b>Falafel</b><br/>\r\n",
      "Old Jerusalem<br/>\n",
      "<em>Read more</em> </a></div>\n",
      "</div>, <div class=\"sammy\" style=\"position: relative;\">\n",
      "<div class=\"sammyRank\">20</div>\n",
      "<div class=\"sammyListing\"><a href=\"http://www.chicagomag.com/Chicago-Magazine/November-2012/Best-Sandwiches-in-Chicago-Mindys-HotChocolate-Crab-Cake/\"><b>Crab Cake</b><br/>\r\n",
      "Mindy’s HotChocolate<br/>\n",
      "<em>Read more</em> </a></div>\n",
      "</div>, <div class=\"sammy\" style=\"position: relative;\">\n",
      "<div class=\"sammyRank\">21</div>\n",
      "<div class=\"sammyListing\"><a href=\"http://www.chicagomag.com/Chicago-Magazine/November-2012/Best-Sandwiches-in-Chicago-Olgas-Delicatessen-Chicken-Schnitzel/\"><b>Chicken Schnitzel</b><br/>\r\n",
      "Olga’s Delicatessen<br/>\n",
      "<em>Read more</em> </a></div>\n",
      "</div>, <div class=\"sammy\" style=\"position: relative;\">\n",
      "<div class=\"sammyRank\">22</div>\n",
      "<div class=\"sammyListing\"><a href=\"http://www.chicagomag.com/Chicago-Magazine/November-2012/Best-Sandwiches-in-Chicago-Dawali-Mediterranean-Kitchen-Shawarma/\"><b>Shawarma</b><br/>\r\n",
      "Dawali Mediterranean Kitchen<br/>\n",
      "<em>Read more</em> </a></div>\n",
      "</div>, <div class=\"sammy\" style=\"position: relative;\">\n",
      "<div class=\"sammyRank\">23</div>\n",
      "<div class=\"sammyListing\"><a href=\"http://www.chicagomag.com/Chicago-Magazine/November-2012/Best-Sandwiches-in-Chicago-Big-Jones-Toasted-Pimiento-Cheese/\"><b>Toasted Pimiento Cheese</b><br/>\r\n",
      "Big Jones<br/>\n",
      "<em>Read more</em> </a></div>\n",
      "</div>, <div class=\"sammy\" style=\"position: relative;\">\n",
      "<div class=\"sammyRank\">24</div>\n",
      "<div class=\"sammyListing\"><a href=\"http://www.chicagomag.com/Chicago-Magazine/November-2012/Best-Sandwiches-in-Chicago-La-Pane-Vegetarian-Panino/\"><b>Vegetarian Panino</b><br/>\r\n",
      "La Pane<br/>\n",
      "<em>Read more</em> </a></div>\n",
      "</div>, <div class=\"sammy\" style=\"position: relative;\">\n",
      "<div class=\"sammyRank\">25</div>\n",
      "<div class=\"sammyListing\"><a href=\"/Chicago-Magazine/November-2012/Best-Sandwiches-in-Chicago-Pastoral-Cali-Chevre/\"><b>Cali Chèvre</b><br/>\r\n",
      "Pastoral<br/>\n",
      "<em>Read more</em> </a></div>\n",
      "</div>, <div class=\"sammy\" style=\"position: relative;\">\n",
      "<div class=\"sammyRank\">26</div>\n",
      "<div class=\"sammyListing\"><a href=\"http://www.chicagomag.com/Chicago-Magazine/November-2012/Best-Sandwiches-in-Chicago-Maxs-Deli-Pastrami/\"><b>Pastrami</b><br/>\r\n",
      "Max’s Deli<br/>\n",
      "<em>Read more</em> </a></div>\n",
      "</div>, <div class=\"sammy\" style=\"position: relative;\">\n",
      "<div class=\"sammyRank\">27</div>\n",
      "<div class=\"sammyListing\"><a href=\"http://www.chicagomag.com/Chicago-Magazine/November-2012/Best-Sandwiches-in-Chicago-Luckys-Sandwich-Co-The-Fredo/\"><b>The Fredo</b><br/>\r\n",
      "Lucky’s Sandwich Co.<br/>\n",
      "<em>Read more</em> </a></div>\n",
      "</div>, <div class=\"sammy\" style=\"position: relative;\">\n",
      "<div class=\"sammyRank\">28</div>\n",
      "<div class=\"sammyListing\"><a href=\"http://www.chicagomag.com/Chicago-Magazine/November-2012/Best-Sandwiches-in-Chicago-City-Provisions-Smoked-Ham/\"><b>Smoked Ham</b><br/>\r\n",
      "City Provisions<br/>\n",
      "<em>Read more</em> </a></div>\n",
      "</div>, <div class=\"sammy\" style=\"position: relative;\">\n",
      "<div class=\"sammyRank\">29</div>\n",
      "<div class=\"sammyListing\"><a href=\"http://www.chicagomag.com/Chicago-Magazine/November-2012/Best-Sandwiches-in-Chicago-Papas-Cache-Sabroso-Jibarito/\"><b>Jibarito</b><br/>\r\n",
      "Papa’s Cache Sabroso<br/>\n",
      "<em>Read more</em> </a></div>\n",
      "</div>, <div class=\"sammy\" style=\"position: relative;\">\n",
      "<div class=\"sammyRank\">30</div>\n",
      "<div class=\"sammyListing\"><a href=\"http://www.chicagomag.com/Chicago-Magazine/November-2012/Best-Sandwiches-in-Chicago-Bavettes-Bar-and-Boeuf-Shaved-Prime-Rib/\"><b>Shaved Prime Rib</b><br/>\r\n",
      "Bavette’s Bar &amp; Boeuf<br/>\n",
      "<em>Read more</em> </a></div>\n",
      "</div>, <div class=\"sammy\" style=\"position: relative;\">\n",
      "<div class=\"sammyRank\">31</div>\n",
      "<div class=\"sammyListing\"><a href=\"http://www.chicagomag.com/Chicago-Magazine/November-2012/Best-Sandwiches-in-Chicago-Hannahs-Bretzel-Serrano-Ham-and-Manchego-Cheese/\"><b>Serrano Ham and Manchego Cheese</b><br/>\r\n",
      "Hannah’s Bretzel<br/>\n",
      "<em>Read more</em> </a></div>\n",
      "</div>, <div class=\"sammy\" style=\"position: relative;\">\n",
      "<div class=\"sammyRank\">32</div>\n",
      "<div class=\"sammyListing\"><a href=\"http://www.chicagomag.com/Chicago-Magazine/November-2012/Best-Sandwiches-in-Chicago-La-Fournette-Tuna-Salad/\"><b>Tuna Salad</b><br/>\r\n",
      "La Fournette<br/>\n",
      "<em>Read more</em> </a></div>\n",
      "</div>, <div class=\"sammy\" style=\"position: relative;\">\n",
      "<div class=\"sammyRank\">33</div>\n",
      "<div class=\"sammyListing\"><a href=\"http://www.chicagomag.com/Chicago-Magazine/November-2012/Best-Sandwiches-in-Chicago-Paramount-Room-Paramount-Reuben/\"><b>Paramount Reuben</b><br/>\r\n",
      "Paramount Room<br/>\n",
      "<em>Read more</em> </a></div>\n",
      "</div>, <div class=\"sammy\" style=\"position: relative;\">\n",
      "<div class=\"sammyRank\">34</div>\n",
      "<div class=\"sammyListing\"><a href=\"http://www.chicagomag.com/Chicago-Magazine/November-2012/Best-Sandwiches-in-Chicago-Melt-Sandwich-Shoppe-The-Istanbul/\"><b>The Istanbul</b><br/>\r\n",
      "Melt Sandwich Shoppe<br/>\n",
      "<em>Read more</em> </a></div>\n",
      "</div>, <div class=\"sammy\" style=\"position: relative;\">\n",
      "<div class=\"sammyRank\">35</div>\n",
      "<div class=\"sammyListing\"><a href=\"http://www.chicagomag.com/Chicago-Magazine/November-2012/Best-Sandwiches-in-Chicago-Floriole-Cafe-and-Bakery-BAD/\"><b>B.A.D.</b><br/>\r\n",
      "Floriole Cafe &amp; Bakery<br/>\n",
      "<em>Read more</em> </a></div>\n",
      "</div>, <div class=\"sammy\" style=\"position: relative;\">\n",
      "<div class=\"sammyRank\">36</div>\n",
      "<div class=\"sammyListing\"><a href=\"http://www.chicagomag.com/Chicago-Magazine/November-2012/Best-Sandwiches-in-Chicago-First-Slice-Pie-Cafe-Duck-Confit-and-Mozzarella/\"><b>Duck Confit and Mozzarella</b><br/>\r\n",
      "First Slice Pie Café<br/>\n",
      "<em>Read more</em> </a></div>\n",
      "</div>, <div class=\"sammy\" style=\"position: relative;\">\n",
      "<div class=\"sammyRank\">37</div>\n",
      "<div class=\"sammyListing\"><a href=\"http://www.chicagomag.com/Chicago-Magazine/November-2012/Best-Sandwiches-in-Chicago-Troquet-Croque-Monsieur/\"><b>Croque Monsieur</b><br/>\r\n",
      "Troquet<br/>\n",
      "<em>Read more</em> </a></div>\n",
      "</div>, <div class=\"sammy\" style=\"position: relative;\">\n",
      "<div class=\"sammyRank\">38</div>\n",
      "<div class=\"sammyListing\"><a href=\"http://www.chicagomag.com/Chicago-Magazine/November-2012/Best-Sandwiches-in-Chicago-Grahamwich-Green-Garbanzo/\"><b>Green Garbanzo</b><br/>\r\n",
      "Grahamwich<br/>\n",
      "<em>Read more</em> </a></div>\n",
      "</div>, <div class=\"sammy\" style=\"position: relative;\">\n",
      "<div class=\"sammyRank\">39</div>\n",
      "<div class=\"sammyListing\"><a href=\"http://www.chicagomag.com/Chicago-Magazine/November-2012/Best-Sandwiches-in-Chicago-Saigon-Sisters-The-Hen-House/\"><b>The Hen House</b><br/>\r\n",
      "Saigon Sisters<br/>\n",
      "<em>Read more</em> </a></div>\n",
      "</div>, <div class=\"sammy\" style=\"position: relative;\">\n",
      "<div class=\"sammyRank\">40</div>\n",
      "<div class=\"sammyListing\"><a href=\"http://www.chicagomag.com/Chicago-Magazine/November-2012/Best-Sandwiches-in-Chicago-Rosalias-Deli-Tuscan-Chicken/\"><b>Tuscan Chicken</b><br/>\r\n",
      "Rosalia’s Deli<br/>\n",
      "<em>Read more</em> </a></div>\n",
      "</div>, <div class=\"sammy\" style=\"position: relative;\">\n",
      "<div class=\"sammyRank\">41</div>\n",
      "<div class=\"sammyListing\"><a href=\"http://www.chicagomag.com/Chicago-Magazine/November-2012/Best-Sandwiches-in-Chicago-Z-and-H-MarketCafe-The-Marty/\"><b>The Marty </b><br/>\r\n",
      "Z&amp;H MarketCafe<br/>\n",
      "<em>Read more</em> </a></div>\n",
      "</div>, <div class=\"sammy\" style=\"position: relative;\">\n",
      "<div class=\"sammyRank\">42</div>\n",
      "<div class=\"sammyListing\"><a href=\"http://www.chicagomag.com/Chicago-Magazine/November-2012/Best-Sandwiches-in-Chicago-Market-House-on-the-Square-Whitefish/\"><b>Whitefish</b><br/>\r\n",
      "Market House on the Square<br/>\n",
      "<em>Read more</em> </a></div>\n",
      "</div>, <div class=\"sammy\" style=\"position: relative;\">\n",
      "<div class=\"sammyRank\">43</div>\n",
      "<div class=\"sammyListing\"><a href=\"http://www.chicagomag.com/Chicago-Magazine/November-2012/Best-Sandwiches-in-Chicago-Elaines-Coffee-Call-Oat-Bread-Pecan-Butter-and-Fruit-Jam/\"><b>Oat Bread, Pecan Butter, and Fruit Jam</b><br/>\r\n",
      "Elaine’s Coffee Call<br/>\n",
      "<em>Read more</em> </a></div>\n",
      "</div>, <div class=\"sammy\" style=\"position: relative;\">\n",
      "<div class=\"sammyRank\">44</div>\n",
      "<div class=\"sammyListing\"><a href=\"http://www.chicagomag.com/Chicago-Magazine/November-2012/Best-Sandwiches-in-Chicago-Marion-Street-Cheese-Market-Cauliflower-Melt/\"><b>Cauliflower Melt</b><br/>\r\n",
      "Marion Street Cheese Market<br/>\n",
      "<em>Read more</em> </a></div>\n",
      "</div>, <div class=\"sammy\" style=\"position: relative;\">\n",
      "<div class=\"sammyRank\">45</div>\n",
      "<div class=\"sammyListing\"><a href=\"http://www.chicagomag.com/Chicago-Magazine/November-2012/Best-Sandwiches-in-Chicago-Cafecito-Cubano/\"><b>Cubana</b><br/>\r\n",
      "Cafecito<br/>\n",
      "<em>Read more</em> </a></div>\n",
      "</div>, <div class=\"sammy\" style=\"position: relative;\">\n",
      "<div class=\"sammyRank\">46</div>\n",
      "<div class=\"sammyListing\"><a href=\"http://www.chicagomag.com/Chicago-Magazine/November-2012/Best-Sandwiches-in-Chicago-Chickpea-Kufta/\"><b>Kufta</b><br/>\r\n",
      "Chickpea<br/>\n",
      "<em>Read more</em> </a></div>\n",
      "</div>, <div class=\"sammy\" style=\"position: relative;\">\n",
      "<div class=\"sammyRank\">47</div>\n",
      "<div class=\"sammyListing\"><a href=\"http://www.chicagomag.com/Chicago-Magazine/November-2012/Best-Sandwiches-in-Chicago-The-Goddess-and-Grocer-Debbies-Egg-Salad/\"><b>Debbie’s Egg Salad</b><br/>\r\n",
      "The Goddess and Grocer<br/>\n",
      "<em>Read more</em> </a></div>\n",
      "</div>, <div class=\"sammy\" style=\"position: relative;\">\n",
      "<div class=\"sammyRank\">48</div>\n",
      "<div class=\"sammyListing\"><a href=\"http://www.chicagomag.com/Chicago-Magazine/November-2012/Best-Sandwiches-in-Chicago-Zenwich-Beef-Curry/\"><b>Beef Curry</b><br/>\r\n",
      "Zenwich<br/>\n",
      "<em>Read more</em> </a></div>\n",
      "</div>, <div class=\"sammy\" style=\"position: relative;\">\n",
      "<div class=\"sammyRank\">49</div>\n",
      "<div class=\"sammyListing\"><a href=\"http://www.chicagomag.com/Chicago-Magazine/November-2012/Best-Sandwiches-in-Chicago-Toni-Patisserie-Le-Vegetarien/\"><b>Le Végétarien</b><br/>\r\n",
      "Toni Patisserie<br/>\n",
      "<em>Read more</em> </a></div>\n",
      "</div>, <div class=\"sammy\" style=\"position: relative; border-bottom: 0\">\n",
      "<div class=\"sammyRank\">50</div>\n",
      "<div class=\"sammyListing\"><a href=\"http://www.chicagomag.com/Chicago-Magazine/November-2012/Best-Sandwiches-in-Chicago-Phoebes-Bakery-The-Gatsby/\"><b>The Gatsby</b><br/>\r\n",
      "Phoebe’s Bakery<br/>\n",
      "<em>Read more</em> </a></div>\n",
      "</div>]\n"
     ]
    }
   ],
   "source": [
    "print(soup.find_all('div', 'sammy'))"
   ]
  },
  {
   "cell_type": "code",
   "execution_count": 4,
   "metadata": {},
   "outputs": [
    {
     "data": {
      "text/plain": [
       "50"
      ]
     },
     "execution_count": 4,
     "metadata": {},
     "output_type": "execute_result"
    }
   ],
   "source": [
    "len(soup.find_all('div', 'sammy'))"
   ]
  },
  {
   "cell_type": "code",
   "execution_count": 5,
   "metadata": {},
   "outputs": [
    {
     "name": "stdout",
     "output_type": "stream",
     "text": [
      "<div class=\"sammy\" style=\"position: relative;\">\n",
      "<div class=\"sammyRank\">1</div>\n",
      "<div class=\"sammyListing\"><a href=\"/Chicago-Magazine/November-2012/Best-Sandwiches-in-Chicago-Old-Oak-Tap-BLT/\"><b>BLT</b><br>\r\n",
      "Old Oak Tap<br>\n",
      "<em>Read more</em> </br></br></a></div>\n",
      "</div>\n"
     ]
    }
   ],
   "source": [
    "print(soup.find_all('div', 'sammy')[0])"
   ]
  },
  {
   "cell_type": "markdown",
   "metadata": {},
   "source": [
    "### 2. 접근한 웹 페이지에서 원하는 데이터 추출하고 정리하기"
   ]
  },
  {
   "cell_type": "code",
   "execution_count": 6,
   "metadata": {},
   "outputs": [
    {
     "data": {
      "text/plain": [
       "bs4.element.Tag"
      ]
     },
     "execution_count": 6,
     "metadata": {},
     "output_type": "execute_result"
    }
   ],
   "source": [
    "tmp_one = soup.find_all('div', 'sammy')[0]\n",
    "type(tmp_one)"
   ]
  },
  {
   "cell_type": "code",
   "execution_count": 7,
   "metadata": {},
   "outputs": [
    {
     "data": {
      "text/plain": [
       "<div class=\"sammyRank\">1</div>"
      ]
     },
     "execution_count": 7,
     "metadata": {},
     "output_type": "execute_result"
    }
   ],
   "source": [
    "tmp_one.find(class_='sammyRank')"
   ]
  },
  {
   "cell_type": "code",
   "execution_count": 8,
   "metadata": {},
   "outputs": [
    {
     "data": {
      "text/plain": [
       "'1'"
      ]
     },
     "execution_count": 8,
     "metadata": {},
     "output_type": "execute_result"
    }
   ],
   "source": [
    "tmp_one.find(class_='sammyRank').get_text()"
   ]
  },
  {
   "cell_type": "code",
   "execution_count": 9,
   "metadata": {},
   "outputs": [
    {
     "data": {
      "text/plain": [
       "'BLT\\r\\nOld Oak Tap\\nRead more '"
      ]
     },
     "execution_count": 9,
     "metadata": {},
     "output_type": "execute_result"
    }
   ],
   "source": [
    "tmp_one.find(class_='sammyListing').get_text()"
   ]
  },
  {
   "cell_type": "code",
   "execution_count": 10,
   "metadata": {},
   "outputs": [
    {
     "data": {
      "text/plain": [
       "'/Chicago-Magazine/November-2012/Best-Sandwiches-in-Chicago-Old-Oak-Tap-BLT/'"
      ]
     },
     "execution_count": 10,
     "metadata": {},
     "output_type": "execute_result"
    }
   ],
   "source": [
    "tmp_one.find('a')['href']"
   ]
  },
  {
   "cell_type": "code",
   "execution_count": 11,
   "metadata": {},
   "outputs": [],
   "source": [
    "import re"
   ]
  },
  {
   "cell_type": "code",
   "execution_count": 12,
   "metadata": {},
   "outputs": [
    {
     "name": "stdout",
     "output_type": "stream",
     "text": [
      "BLT\n",
      "Old Oak Tap\n"
     ]
    }
   ],
   "source": [
    "tmp_string = tmp_one.find(class_='sammyListing').get_text()\n",
    "\n",
    "re.split(('\\n|\\r\\n'), tmp_string)\n",
    "\n",
    "print(re.split(('\\n|\\r\\n'), tmp_string)[0])\n",
    "print(re.split(('\\n|\\r\\n'), tmp_string)[1])"
   ]
  },
  {
   "cell_type": "code",
   "execution_count": 13,
   "metadata": {},
   "outputs": [],
   "source": [
    "rank = []\n",
    "main_menu = []\n",
    "cafe_name = []\n",
    "url_add = []\n",
    "\n",
    "list_soup = soup.find_all('div','sammy')"
   ]
  },
  {
   "cell_type": "code",
   "execution_count": 14,
   "metadata": {},
   "outputs": [],
   "source": [
    "from urllib.parse import urljoin"
   ]
  },
  {
   "cell_type": "code",
   "execution_count": 15,
   "metadata": {},
   "outputs": [],
   "source": [
    "for item in list_soup:\n",
    "    rank.append(item.find(class_='sammyRank').get_text())\n",
    "    \n",
    "    tmp_string = item.find(class_='sammyListing').get_text()\n",
    "    \n",
    "    main_menu.append(re.split(('\\n|\\r\\n'), tmp_string)[0])\n",
    "    cafe_name.append(re.split(('\\n|\\r\\n'), tmp_string)[1])\n",
    "    \n",
    "    url_add.append(urljoin(url_base, item.find('a')['href']))"
   ]
  },
  {
   "cell_type": "code",
   "execution_count": 16,
   "metadata": {},
   "outputs": [
    {
     "data": {
      "text/plain": [
       "['1', '2', '3', '4', '5']"
      ]
     },
     "execution_count": 16,
     "metadata": {},
     "output_type": "execute_result"
    }
   ],
   "source": [
    "rank[:5]"
   ]
  },
  {
   "cell_type": "code",
   "execution_count": 17,
   "metadata": {},
   "outputs": [
    {
     "data": {
      "text/plain": [
       "['BLT', 'Fried Bologna', 'Woodland Mushroom', 'Roast Beef', 'PB&L']"
      ]
     },
     "execution_count": 17,
     "metadata": {},
     "output_type": "execute_result"
    }
   ],
   "source": [
    "main_menu[:5]"
   ]
  },
  {
   "cell_type": "code",
   "execution_count": 18,
   "metadata": {},
   "outputs": [
    {
     "data": {
      "text/plain": [
       "['Old Oak Tap', 'Au Cheval', 'Xoco', 'Al’s Deli', 'Publican Quality Meats']"
      ]
     },
     "execution_count": 18,
     "metadata": {},
     "output_type": "execute_result"
    }
   ],
   "source": [
    "cafe_name[:5]"
   ]
  },
  {
   "cell_type": "code",
   "execution_count": 19,
   "metadata": {},
   "outputs": [
    {
     "data": {
      "text/plain": [
       "['https://www.chicagomag.com/Chicago-Magazine/November-2012/Best-Sandwiches-in-Chicago-Old-Oak-Tap-BLT/',\n",
       " 'https://www.chicagomag.com/Chicago-Magazine/November-2012/Best-Sandwiches-in-Chicago-Au-Cheval-Fried-Bologna/',\n",
       " 'https://www.chicagomag.com/Chicago-Magazine/November-2012/Best-Sandwiches-in-Chicago-Xoco-Woodland-Mushroom/',\n",
       " 'https://www.chicagomag.com/Chicago-Magazine/November-2012/Best-Sandwiches-in-Chicago-Als-Deli-Roast-Beef/',\n",
       " 'https://www.chicagomag.com/Chicago-Magazine/November-2012/Best-Sandwiches-in-Chicago-Publican-Quality-Meats-PB-L/']"
      ]
     },
     "execution_count": 19,
     "metadata": {},
     "output_type": "execute_result"
    }
   ],
   "source": [
    "url_add[:5]"
   ]
  },
  {
   "cell_type": "code",
   "execution_count": 20,
   "metadata": {},
   "outputs": [
    {
     "data": {
      "text/plain": [
       "(50, 50, 50, 50)"
      ]
     },
     "execution_count": 20,
     "metadata": {},
     "output_type": "execute_result"
    }
   ],
   "source": [
    "len(rank), len(main_menu), len(cafe_name), len(url_add)"
   ]
  },
  {
   "cell_type": "code",
   "execution_count": 21,
   "metadata": {},
   "outputs": [],
   "source": [
    "import pandas as pd"
   ]
  },
  {
   "cell_type": "code",
   "execution_count": 22,
   "metadata": {},
   "outputs": [
    {
     "data": {
      "text/html": [
       "<div>\n",
       "<style scoped>\n",
       "    .dataframe tbody tr th:only-of-type {\n",
       "        vertical-align: middle;\n",
       "    }\n",
       "\n",
       "    .dataframe tbody tr th {\n",
       "        vertical-align: top;\n",
       "    }\n",
       "\n",
       "    .dataframe thead th {\n",
       "        text-align: right;\n",
       "    }\n",
       "</style>\n",
       "<table border=\"1\" class=\"dataframe\">\n",
       "  <thead>\n",
       "    <tr style=\"text-align: right;\">\n",
       "      <th></th>\n",
       "      <th>Rank</th>\n",
       "      <th>Menu</th>\n",
       "      <th>Cafe</th>\n",
       "      <th>URL</th>\n",
       "    </tr>\n",
       "  </thead>\n",
       "  <tbody>\n",
       "    <tr>\n",
       "      <th>0</th>\n",
       "      <td>1</td>\n",
       "      <td>BLT</td>\n",
       "      <td>Old Oak Tap</td>\n",
       "      <td>https://www.chicagomag.com/Chicago-Magazine/No...</td>\n",
       "    </tr>\n",
       "    <tr>\n",
       "      <th>1</th>\n",
       "      <td>2</td>\n",
       "      <td>Fried Bologna</td>\n",
       "      <td>Au Cheval</td>\n",
       "      <td>https://www.chicagomag.com/Chicago-Magazine/No...</td>\n",
       "    </tr>\n",
       "    <tr>\n",
       "      <th>2</th>\n",
       "      <td>3</td>\n",
       "      <td>Woodland Mushroom</td>\n",
       "      <td>Xoco</td>\n",
       "      <td>https://www.chicagomag.com/Chicago-Magazine/No...</td>\n",
       "    </tr>\n",
       "    <tr>\n",
       "      <th>3</th>\n",
       "      <td>4</td>\n",
       "      <td>Roast Beef</td>\n",
       "      <td>Al’s Deli</td>\n",
       "      <td>https://www.chicagomag.com/Chicago-Magazine/No...</td>\n",
       "    </tr>\n",
       "    <tr>\n",
       "      <th>4</th>\n",
       "      <td>5</td>\n",
       "      <td>PB&amp;L</td>\n",
       "      <td>Publican Quality Meats</td>\n",
       "      <td>https://www.chicagomag.com/Chicago-Magazine/No...</td>\n",
       "    </tr>\n",
       "  </tbody>\n",
       "</table>\n",
       "</div>"
      ],
      "text/plain": [
       "  Rank               Menu                    Cafe  \\\n",
       "0    1                BLT             Old Oak Tap   \n",
       "1    2      Fried Bologna               Au Cheval   \n",
       "2    3  Woodland Mushroom                    Xoco   \n",
       "3    4         Roast Beef               Al’s Deli   \n",
       "4    5               PB&L  Publican Quality Meats   \n",
       "\n",
       "                                                 URL  \n",
       "0  https://www.chicagomag.com/Chicago-Magazine/No...  \n",
       "1  https://www.chicagomag.com/Chicago-Magazine/No...  \n",
       "2  https://www.chicagomag.com/Chicago-Magazine/No...  \n",
       "3  https://www.chicagomag.com/Chicago-Magazine/No...  \n",
       "4  https://www.chicagomag.com/Chicago-Magazine/No...  "
      ]
     },
     "execution_count": 22,
     "metadata": {},
     "output_type": "execute_result"
    }
   ],
   "source": [
    "data = {'Rank' : rank,\n",
    "        'Menu' : main_menu,\n",
    "        'Cafe' : cafe_name,\n",
    "        'URL' : url_add}\n",
    "df = pd.DataFrame(data)\n",
    "df.head()"
   ]
  },
  {
   "cell_type": "code",
   "execution_count": 23,
   "metadata": {},
   "outputs": [
    {
     "data": {
      "text/html": [
       "<div>\n",
       "<style scoped>\n",
       "    .dataframe tbody tr th:only-of-type {\n",
       "        vertical-align: middle;\n",
       "    }\n",
       "\n",
       "    .dataframe tbody tr th {\n",
       "        vertical-align: top;\n",
       "    }\n",
       "\n",
       "    .dataframe thead th {\n",
       "        text-align: right;\n",
       "    }\n",
       "</style>\n",
       "<table border=\"1\" class=\"dataframe\">\n",
       "  <thead>\n",
       "    <tr style=\"text-align: right;\">\n",
       "      <th></th>\n",
       "      <th>Rank</th>\n",
       "      <th>Cafe</th>\n",
       "      <th>Menu</th>\n",
       "      <th>URL</th>\n",
       "    </tr>\n",
       "  </thead>\n",
       "  <tbody>\n",
       "    <tr>\n",
       "      <th>0</th>\n",
       "      <td>1</td>\n",
       "      <td>Old Oak Tap</td>\n",
       "      <td>BLT</td>\n",
       "      <td>https://www.chicagomag.com/Chicago-Magazine/No...</td>\n",
       "    </tr>\n",
       "    <tr>\n",
       "      <th>1</th>\n",
       "      <td>2</td>\n",
       "      <td>Au Cheval</td>\n",
       "      <td>Fried Bologna</td>\n",
       "      <td>https://www.chicagomag.com/Chicago-Magazine/No...</td>\n",
       "    </tr>\n",
       "    <tr>\n",
       "      <th>2</th>\n",
       "      <td>3</td>\n",
       "      <td>Xoco</td>\n",
       "      <td>Woodland Mushroom</td>\n",
       "      <td>https://www.chicagomag.com/Chicago-Magazine/No...</td>\n",
       "    </tr>\n",
       "    <tr>\n",
       "      <th>3</th>\n",
       "      <td>4</td>\n",
       "      <td>Al’s Deli</td>\n",
       "      <td>Roast Beef</td>\n",
       "      <td>https://www.chicagomag.com/Chicago-Magazine/No...</td>\n",
       "    </tr>\n",
       "    <tr>\n",
       "      <th>4</th>\n",
       "      <td>5</td>\n",
       "      <td>Publican Quality Meats</td>\n",
       "      <td>PB&amp;L</td>\n",
       "      <td>https://www.chicagomag.com/Chicago-Magazine/No...</td>\n",
       "    </tr>\n",
       "  </tbody>\n",
       "</table>\n",
       "</div>"
      ],
      "text/plain": [
       "  Rank                    Cafe               Menu  \\\n",
       "0    1             Old Oak Tap                BLT   \n",
       "1    2               Au Cheval      Fried Bologna   \n",
       "2    3                    Xoco  Woodland Mushroom   \n",
       "3    4               Al’s Deli         Roast Beef   \n",
       "4    5  Publican Quality Meats               PB&L   \n",
       "\n",
       "                                                 URL  \n",
       "0  https://www.chicagomag.com/Chicago-Magazine/No...  \n",
       "1  https://www.chicagomag.com/Chicago-Magazine/No...  \n",
       "2  https://www.chicagomag.com/Chicago-Magazine/No...  \n",
       "3  https://www.chicagomag.com/Chicago-Magazine/No...  \n",
       "4  https://www.chicagomag.com/Chicago-Magazine/No...  "
      ]
     },
     "execution_count": 23,
     "metadata": {},
     "output_type": "execute_result"
    }
   ],
   "source": [
    "df = pd.DataFrame(data, columns=['Rank','Cafe','Menu','URL'])\n",
    "df.head()"
   ]
  },
  {
   "cell_type": "code",
   "execution_count": 24,
   "metadata": {},
   "outputs": [],
   "source": [
    "df.to_csv('data/best_sandwiches_list_chicago.csv', sep=',', encoding='utf-8-sig')"
   ]
  },
  {
   "cell_type": "markdown",
   "metadata": {},
   "source": [
    "### 3. 다수의 웹 페이지에 자동으로 접근해서 원하는 정보 가져오기"
   ]
  },
  {
   "cell_type": "code",
   "execution_count": 25,
   "metadata": {},
   "outputs": [
    {
     "data": {
      "text/html": [
       "<div>\n",
       "<style scoped>\n",
       "    .dataframe tbody tr th:only-of-type {\n",
       "        vertical-align: middle;\n",
       "    }\n",
       "\n",
       "    .dataframe tbody tr th {\n",
       "        vertical-align: top;\n",
       "    }\n",
       "\n",
       "    .dataframe thead th {\n",
       "        text-align: right;\n",
       "    }\n",
       "</style>\n",
       "<table border=\"1\" class=\"dataframe\">\n",
       "  <thead>\n",
       "    <tr style=\"text-align: right;\">\n",
       "      <th></th>\n",
       "      <th>Rank</th>\n",
       "      <th>Cafe</th>\n",
       "      <th>Menu</th>\n",
       "      <th>URL</th>\n",
       "    </tr>\n",
       "  </thead>\n",
       "  <tbody>\n",
       "    <tr>\n",
       "      <th>0</th>\n",
       "      <td>1</td>\n",
       "      <td>Old Oak Tap</td>\n",
       "      <td>BLT</td>\n",
       "      <td>https://www.chicagomag.com/Chicago-Magazine/No...</td>\n",
       "    </tr>\n",
       "    <tr>\n",
       "      <th>1</th>\n",
       "      <td>2</td>\n",
       "      <td>Au Cheval</td>\n",
       "      <td>Fried Bologna</td>\n",
       "      <td>https://www.chicagomag.com/Chicago-Magazine/No...</td>\n",
       "    </tr>\n",
       "    <tr>\n",
       "      <th>2</th>\n",
       "      <td>3</td>\n",
       "      <td>Xoco</td>\n",
       "      <td>Woodland Mushroom</td>\n",
       "      <td>https://www.chicagomag.com/Chicago-Magazine/No...</td>\n",
       "    </tr>\n",
       "    <tr>\n",
       "      <th>3</th>\n",
       "      <td>4</td>\n",
       "      <td>Al’s Deli</td>\n",
       "      <td>Roast Beef</td>\n",
       "      <td>https://www.chicagomag.com/Chicago-Magazine/No...</td>\n",
       "    </tr>\n",
       "    <tr>\n",
       "      <th>4</th>\n",
       "      <td>5</td>\n",
       "      <td>Publican Quality Meats</td>\n",
       "      <td>PB&amp;L</td>\n",
       "      <td>https://www.chicagomag.com/Chicago-Magazine/No...</td>\n",
       "    </tr>\n",
       "    <tr>\n",
       "      <th>5</th>\n",
       "      <td>6</td>\n",
       "      <td>Hendrickx Belgian Bread Crafter</td>\n",
       "      <td>Belgian Chicken Curry Salad</td>\n",
       "      <td>http://www.chicagomag.com/Chicago-Magazine/Nov...</td>\n",
       "    </tr>\n",
       "    <tr>\n",
       "      <th>6</th>\n",
       "      <td>7</td>\n",
       "      <td>Acadia</td>\n",
       "      <td>Lobster Roll</td>\n",
       "      <td>https://www.chicagomag.com/Chicago-Magazine/No...</td>\n",
       "    </tr>\n",
       "    <tr>\n",
       "      <th>7</th>\n",
       "      <td>8</td>\n",
       "      <td>Birchwood Kitchen</td>\n",
       "      <td>Smoked Salmon Salad</td>\n",
       "      <td>https://www.chicagomag.com/Chicago-Magazine/No...</td>\n",
       "    </tr>\n",
       "    <tr>\n",
       "      <th>8</th>\n",
       "      <td>9</td>\n",
       "      <td>Cemitas Puebla</td>\n",
       "      <td>Atomica Cemitas</td>\n",
       "      <td>https://www.chicagomag.com/Chicago-Magazine/No...</td>\n",
       "    </tr>\n",
       "    <tr>\n",
       "      <th>9</th>\n",
       "      <td>10</td>\n",
       "      <td>Nana</td>\n",
       "      <td>Grilled Laughing Bird Shrimp and Fried Po’ Boy</td>\n",
       "      <td>https://www.chicagomag.com/Chicago-Magazine/No...</td>\n",
       "    </tr>\n",
       "    <tr>\n",
       "      <th>10</th>\n",
       "      <td>11</td>\n",
       "      <td>Lula Cafe</td>\n",
       "      <td>Ham and Raclette Panino</td>\n",
       "      <td>http://www.chicagomag.com/Chicago-Magazine/Nov...</td>\n",
       "    </tr>\n",
       "    <tr>\n",
       "      <th>11</th>\n",
       "      <td>12</td>\n",
       "      <td>Ricobene’s</td>\n",
       "      <td>Breaded Steak</td>\n",
       "      <td>http://www.chicagomag.com/Chicago-Magazine/Nov...</td>\n",
       "    </tr>\n",
       "    <tr>\n",
       "      <th>12</th>\n",
       "      <td>13</td>\n",
       "      <td>Frog n Snail</td>\n",
       "      <td>The Hawkeye</td>\n",
       "      <td>http://www.chicagomag.com/Chicago-Magazine/Nov...</td>\n",
       "    </tr>\n",
       "    <tr>\n",
       "      <th>13</th>\n",
       "      <td>14</td>\n",
       "      <td>Crosby’s Kitchen</td>\n",
       "      <td>Chicken Dip</td>\n",
       "      <td>http://www.chicagomag.com/Chicago-Magazine/Nov...</td>\n",
       "    </tr>\n",
       "    <tr>\n",
       "      <th>14</th>\n",
       "      <td>15</td>\n",
       "      <td>Longman &amp; Eagle</td>\n",
       "      <td>Wild Boar Sloppy Joe</td>\n",
       "      <td>http://www.chicagomag.com/Chicago-Magazine/Nov...</td>\n",
       "    </tr>\n",
       "    <tr>\n",
       "      <th>15</th>\n",
       "      <td>16</td>\n",
       "      <td>Bari</td>\n",
       "      <td>Meatball Sub</td>\n",
       "      <td>http://www.chicagomag.com/Chicago-Magazine/Nov...</td>\n",
       "    </tr>\n",
       "    <tr>\n",
       "      <th>16</th>\n",
       "      <td>17</td>\n",
       "      <td>Manny’s</td>\n",
       "      <td>Corned Beef</td>\n",
       "      <td>http://www.chicagomag.com/Chicago-Magazine/Nov...</td>\n",
       "    </tr>\n",
       "    <tr>\n",
       "      <th>17</th>\n",
       "      <td>18</td>\n",
       "      <td>Eggy’s</td>\n",
       "      <td>Turkey Club</td>\n",
       "      <td>http://www.chicagomag.com/Chicago-Magazine/Nov...</td>\n",
       "    </tr>\n",
       "    <tr>\n",
       "      <th>18</th>\n",
       "      <td>19</td>\n",
       "      <td>Old Jerusalem</td>\n",
       "      <td>Falafel</td>\n",
       "      <td>http://www.chicagomag.com/Chicago-Magazine/Nov...</td>\n",
       "    </tr>\n",
       "    <tr>\n",
       "      <th>19</th>\n",
       "      <td>20</td>\n",
       "      <td>Mindy’s HotChocolate</td>\n",
       "      <td>Crab Cake</td>\n",
       "      <td>http://www.chicagomag.com/Chicago-Magazine/Nov...</td>\n",
       "    </tr>\n",
       "    <tr>\n",
       "      <th>20</th>\n",
       "      <td>21</td>\n",
       "      <td>Olga’s Delicatessen</td>\n",
       "      <td>Chicken Schnitzel</td>\n",
       "      <td>http://www.chicagomag.com/Chicago-Magazine/Nov...</td>\n",
       "    </tr>\n",
       "    <tr>\n",
       "      <th>21</th>\n",
       "      <td>22</td>\n",
       "      <td>Dawali Mediterranean Kitchen</td>\n",
       "      <td>Shawarma</td>\n",
       "      <td>http://www.chicagomag.com/Chicago-Magazine/Nov...</td>\n",
       "    </tr>\n",
       "    <tr>\n",
       "      <th>22</th>\n",
       "      <td>23</td>\n",
       "      <td>Big Jones</td>\n",
       "      <td>Toasted Pimiento Cheese</td>\n",
       "      <td>http://www.chicagomag.com/Chicago-Magazine/Nov...</td>\n",
       "    </tr>\n",
       "    <tr>\n",
       "      <th>23</th>\n",
       "      <td>24</td>\n",
       "      <td>La Pane</td>\n",
       "      <td>Vegetarian Panino</td>\n",
       "      <td>http://www.chicagomag.com/Chicago-Magazine/Nov...</td>\n",
       "    </tr>\n",
       "    <tr>\n",
       "      <th>24</th>\n",
       "      <td>25</td>\n",
       "      <td>Pastoral</td>\n",
       "      <td>Cali Chèvre</td>\n",
       "      <td>https://www.chicagomag.com/Chicago-Magazine/No...</td>\n",
       "    </tr>\n",
       "    <tr>\n",
       "      <th>25</th>\n",
       "      <td>26</td>\n",
       "      <td>Max’s Deli</td>\n",
       "      <td>Pastrami</td>\n",
       "      <td>http://www.chicagomag.com/Chicago-Magazine/Nov...</td>\n",
       "    </tr>\n",
       "    <tr>\n",
       "      <th>26</th>\n",
       "      <td>27</td>\n",
       "      <td>Lucky’s Sandwich Co.</td>\n",
       "      <td>The Fredo</td>\n",
       "      <td>http://www.chicagomag.com/Chicago-Magazine/Nov...</td>\n",
       "    </tr>\n",
       "    <tr>\n",
       "      <th>27</th>\n",
       "      <td>28</td>\n",
       "      <td>City Provisions</td>\n",
       "      <td>Smoked Ham</td>\n",
       "      <td>http://www.chicagomag.com/Chicago-Magazine/Nov...</td>\n",
       "    </tr>\n",
       "    <tr>\n",
       "      <th>28</th>\n",
       "      <td>29</td>\n",
       "      <td>Papa’s Cache Sabroso</td>\n",
       "      <td>Jibarito</td>\n",
       "      <td>http://www.chicagomag.com/Chicago-Magazine/Nov...</td>\n",
       "    </tr>\n",
       "    <tr>\n",
       "      <th>29</th>\n",
       "      <td>30</td>\n",
       "      <td>Bavette’s Bar &amp; Boeuf</td>\n",
       "      <td>Shaved Prime Rib</td>\n",
       "      <td>http://www.chicagomag.com/Chicago-Magazine/Nov...</td>\n",
       "    </tr>\n",
       "    <tr>\n",
       "      <th>30</th>\n",
       "      <td>31</td>\n",
       "      <td>Hannah’s Bretzel</td>\n",
       "      <td>Serrano Ham and Manchego Cheese</td>\n",
       "      <td>http://www.chicagomag.com/Chicago-Magazine/Nov...</td>\n",
       "    </tr>\n",
       "    <tr>\n",
       "      <th>31</th>\n",
       "      <td>32</td>\n",
       "      <td>La Fournette</td>\n",
       "      <td>Tuna Salad</td>\n",
       "      <td>http://www.chicagomag.com/Chicago-Magazine/Nov...</td>\n",
       "    </tr>\n",
       "    <tr>\n",
       "      <th>32</th>\n",
       "      <td>33</td>\n",
       "      <td>Paramount Room</td>\n",
       "      <td>Paramount Reuben</td>\n",
       "      <td>http://www.chicagomag.com/Chicago-Magazine/Nov...</td>\n",
       "    </tr>\n",
       "    <tr>\n",
       "      <th>33</th>\n",
       "      <td>34</td>\n",
       "      <td>Melt Sandwich Shoppe</td>\n",
       "      <td>The Istanbul</td>\n",
       "      <td>http://www.chicagomag.com/Chicago-Magazine/Nov...</td>\n",
       "    </tr>\n",
       "    <tr>\n",
       "      <th>34</th>\n",
       "      <td>35</td>\n",
       "      <td>Floriole Cafe &amp; Bakery</td>\n",
       "      <td>B.A.D.</td>\n",
       "      <td>http://www.chicagomag.com/Chicago-Magazine/Nov...</td>\n",
       "    </tr>\n",
       "    <tr>\n",
       "      <th>35</th>\n",
       "      <td>36</td>\n",
       "      <td>First Slice Pie Café</td>\n",
       "      <td>Duck Confit and Mozzarella</td>\n",
       "      <td>http://www.chicagomag.com/Chicago-Magazine/Nov...</td>\n",
       "    </tr>\n",
       "    <tr>\n",
       "      <th>36</th>\n",
       "      <td>37</td>\n",
       "      <td>Troquet</td>\n",
       "      <td>Croque Monsieur</td>\n",
       "      <td>http://www.chicagomag.com/Chicago-Magazine/Nov...</td>\n",
       "    </tr>\n",
       "    <tr>\n",
       "      <th>37</th>\n",
       "      <td>38</td>\n",
       "      <td>Grahamwich</td>\n",
       "      <td>Green Garbanzo</td>\n",
       "      <td>http://www.chicagomag.com/Chicago-Magazine/Nov...</td>\n",
       "    </tr>\n",
       "    <tr>\n",
       "      <th>38</th>\n",
       "      <td>39</td>\n",
       "      <td>Saigon Sisters</td>\n",
       "      <td>The Hen House</td>\n",
       "      <td>http://www.chicagomag.com/Chicago-Magazine/Nov...</td>\n",
       "    </tr>\n",
       "    <tr>\n",
       "      <th>39</th>\n",
       "      <td>40</td>\n",
       "      <td>Rosalia’s Deli</td>\n",
       "      <td>Tuscan Chicken</td>\n",
       "      <td>http://www.chicagomag.com/Chicago-Magazine/Nov...</td>\n",
       "    </tr>\n",
       "    <tr>\n",
       "      <th>40</th>\n",
       "      <td>41</td>\n",
       "      <td>Z&amp;H MarketCafe</td>\n",
       "      <td>The Marty</td>\n",
       "      <td>http://www.chicagomag.com/Chicago-Magazine/Nov...</td>\n",
       "    </tr>\n",
       "    <tr>\n",
       "      <th>41</th>\n",
       "      <td>42</td>\n",
       "      <td>Market House on the Square</td>\n",
       "      <td>Whitefish</td>\n",
       "      <td>http://www.chicagomag.com/Chicago-Magazine/Nov...</td>\n",
       "    </tr>\n",
       "    <tr>\n",
       "      <th>42</th>\n",
       "      <td>43</td>\n",
       "      <td>Elaine’s Coffee Call</td>\n",
       "      <td>Oat Bread, Pecan Butter, and Fruit Jam</td>\n",
       "      <td>http://www.chicagomag.com/Chicago-Magazine/Nov...</td>\n",
       "    </tr>\n",
       "    <tr>\n",
       "      <th>43</th>\n",
       "      <td>44</td>\n",
       "      <td>Marion Street Cheese Market</td>\n",
       "      <td>Cauliflower Melt</td>\n",
       "      <td>http://www.chicagomag.com/Chicago-Magazine/Nov...</td>\n",
       "    </tr>\n",
       "    <tr>\n",
       "      <th>44</th>\n",
       "      <td>45</td>\n",
       "      <td>Cafecito</td>\n",
       "      <td>Cubana</td>\n",
       "      <td>http://www.chicagomag.com/Chicago-Magazine/Nov...</td>\n",
       "    </tr>\n",
       "    <tr>\n",
       "      <th>45</th>\n",
       "      <td>46</td>\n",
       "      <td>Chickpea</td>\n",
       "      <td>Kufta</td>\n",
       "      <td>http://www.chicagomag.com/Chicago-Magazine/Nov...</td>\n",
       "    </tr>\n",
       "    <tr>\n",
       "      <th>46</th>\n",
       "      <td>47</td>\n",
       "      <td>The Goddess and Grocer</td>\n",
       "      <td>Debbie’s Egg Salad</td>\n",
       "      <td>http://www.chicagomag.com/Chicago-Magazine/Nov...</td>\n",
       "    </tr>\n",
       "    <tr>\n",
       "      <th>47</th>\n",
       "      <td>48</td>\n",
       "      <td>Zenwich</td>\n",
       "      <td>Beef Curry</td>\n",
       "      <td>http://www.chicagomag.com/Chicago-Magazine/Nov...</td>\n",
       "    </tr>\n",
       "    <tr>\n",
       "      <th>48</th>\n",
       "      <td>49</td>\n",
       "      <td>Toni Patisserie</td>\n",
       "      <td>Le Végétarien</td>\n",
       "      <td>http://www.chicagomag.com/Chicago-Magazine/Nov...</td>\n",
       "    </tr>\n",
       "    <tr>\n",
       "      <th>49</th>\n",
       "      <td>50</td>\n",
       "      <td>Phoebe’s Bakery</td>\n",
       "      <td>The Gatsby</td>\n",
       "      <td>http://www.chicagomag.com/Chicago-Magazine/Nov...</td>\n",
       "    </tr>\n",
       "  </tbody>\n",
       "</table>\n",
       "</div>"
      ],
      "text/plain": [
       "    Rank                             Cafe  \\\n",
       "0      1                      Old Oak Tap   \n",
       "1      2                        Au Cheval   \n",
       "2      3                             Xoco   \n",
       "3      4                        Al’s Deli   \n",
       "4      5           Publican Quality Meats   \n",
       "5      6  Hendrickx Belgian Bread Crafter   \n",
       "6      7                           Acadia   \n",
       "7      8                Birchwood Kitchen   \n",
       "8      9                   Cemitas Puebla   \n",
       "9     10                             Nana   \n",
       "10    11                        Lula Cafe   \n",
       "11    12                       Ricobene’s   \n",
       "12    13                     Frog n Snail   \n",
       "13    14                 Crosby’s Kitchen   \n",
       "14    15                  Longman & Eagle   \n",
       "15    16                             Bari   \n",
       "16    17                          Manny’s   \n",
       "17    18                           Eggy’s   \n",
       "18    19                    Old Jerusalem   \n",
       "19    20             Mindy’s HotChocolate   \n",
       "20    21              Olga’s Delicatessen   \n",
       "21    22     Dawali Mediterranean Kitchen   \n",
       "22    23                        Big Jones   \n",
       "23    24                          La Pane   \n",
       "24    25                         Pastoral   \n",
       "25    26                       Max’s Deli   \n",
       "26    27             Lucky’s Sandwich Co.   \n",
       "27    28                  City Provisions   \n",
       "28    29             Papa’s Cache Sabroso   \n",
       "29    30            Bavette’s Bar & Boeuf   \n",
       "30    31                 Hannah’s Bretzel   \n",
       "31    32                     La Fournette   \n",
       "32    33                   Paramount Room   \n",
       "33    34             Melt Sandwich Shoppe   \n",
       "34    35           Floriole Cafe & Bakery   \n",
       "35    36             First Slice Pie Café   \n",
       "36    37                          Troquet   \n",
       "37    38                       Grahamwich   \n",
       "38    39                   Saigon Sisters   \n",
       "39    40                   Rosalia’s Deli   \n",
       "40    41                   Z&H MarketCafe   \n",
       "41    42       Market House on the Square   \n",
       "42    43             Elaine’s Coffee Call   \n",
       "43    44      Marion Street Cheese Market   \n",
       "44    45                         Cafecito   \n",
       "45    46                         Chickpea   \n",
       "46    47           The Goddess and Grocer   \n",
       "47    48                          Zenwich   \n",
       "48    49                  Toni Patisserie   \n",
       "49    50                  Phoebe’s Bakery   \n",
       "\n",
       "                                              Menu  \\\n",
       "0                                              BLT   \n",
       "1                                    Fried Bologna   \n",
       "2                                Woodland Mushroom   \n",
       "3                                       Roast Beef   \n",
       "4                                             PB&L   \n",
       "5                      Belgian Chicken Curry Salad   \n",
       "6                                     Lobster Roll   \n",
       "7                              Smoked Salmon Salad   \n",
       "8                                  Atomica Cemitas   \n",
       "9   Grilled Laughing Bird Shrimp and Fried Po’ Boy   \n",
       "10                         Ham and Raclette Panino   \n",
       "11                                   Breaded Steak   \n",
       "12                                     The Hawkeye   \n",
       "13                                     Chicken Dip   \n",
       "14                            Wild Boar Sloppy Joe   \n",
       "15                                    Meatball Sub   \n",
       "16                                     Corned Beef   \n",
       "17                                     Turkey Club   \n",
       "18                                         Falafel   \n",
       "19                                       Crab Cake   \n",
       "20                               Chicken Schnitzel   \n",
       "21                                        Shawarma   \n",
       "22                         Toasted Pimiento Cheese   \n",
       "23                               Vegetarian Panino   \n",
       "24                                     Cali Chèvre   \n",
       "25                                        Pastrami   \n",
       "26                                       The Fredo   \n",
       "27                                      Smoked Ham   \n",
       "28                                        Jibarito   \n",
       "29                                Shaved Prime Rib   \n",
       "30                 Serrano Ham and Manchego Cheese   \n",
       "31                                      Tuna Salad   \n",
       "32                                Paramount Reuben   \n",
       "33                                    The Istanbul   \n",
       "34                                          B.A.D.   \n",
       "35                      Duck Confit and Mozzarella   \n",
       "36                                 Croque Monsieur   \n",
       "37                                  Green Garbanzo   \n",
       "38                                   The Hen House   \n",
       "39                                  Tuscan Chicken   \n",
       "40                                      The Marty    \n",
       "41                                       Whitefish   \n",
       "42          Oat Bread, Pecan Butter, and Fruit Jam   \n",
       "43                                Cauliflower Melt   \n",
       "44                                          Cubana   \n",
       "45                                           Kufta   \n",
       "46                              Debbie’s Egg Salad   \n",
       "47                                      Beef Curry   \n",
       "48                                   Le Végétarien   \n",
       "49                                      The Gatsby   \n",
       "\n",
       "                                                  URL  \n",
       "0   https://www.chicagomag.com/Chicago-Magazine/No...  \n",
       "1   https://www.chicagomag.com/Chicago-Magazine/No...  \n",
       "2   https://www.chicagomag.com/Chicago-Magazine/No...  \n",
       "3   https://www.chicagomag.com/Chicago-Magazine/No...  \n",
       "4   https://www.chicagomag.com/Chicago-Magazine/No...  \n",
       "5   http://www.chicagomag.com/Chicago-Magazine/Nov...  \n",
       "6   https://www.chicagomag.com/Chicago-Magazine/No...  \n",
       "7   https://www.chicagomag.com/Chicago-Magazine/No...  \n",
       "8   https://www.chicagomag.com/Chicago-Magazine/No...  \n",
       "9   https://www.chicagomag.com/Chicago-Magazine/No...  \n",
       "10  http://www.chicagomag.com/Chicago-Magazine/Nov...  \n",
       "11  http://www.chicagomag.com/Chicago-Magazine/Nov...  \n",
       "12  http://www.chicagomag.com/Chicago-Magazine/Nov...  \n",
       "13  http://www.chicagomag.com/Chicago-Magazine/Nov...  \n",
       "14  http://www.chicagomag.com/Chicago-Magazine/Nov...  \n",
       "15  http://www.chicagomag.com/Chicago-Magazine/Nov...  \n",
       "16  http://www.chicagomag.com/Chicago-Magazine/Nov...  \n",
       "17  http://www.chicagomag.com/Chicago-Magazine/Nov...  \n",
       "18  http://www.chicagomag.com/Chicago-Magazine/Nov...  \n",
       "19  http://www.chicagomag.com/Chicago-Magazine/Nov...  \n",
       "20  http://www.chicagomag.com/Chicago-Magazine/Nov...  \n",
       "21  http://www.chicagomag.com/Chicago-Magazine/Nov...  \n",
       "22  http://www.chicagomag.com/Chicago-Magazine/Nov...  \n",
       "23  http://www.chicagomag.com/Chicago-Magazine/Nov...  \n",
       "24  https://www.chicagomag.com/Chicago-Magazine/No...  \n",
       "25  http://www.chicagomag.com/Chicago-Magazine/Nov...  \n",
       "26  http://www.chicagomag.com/Chicago-Magazine/Nov...  \n",
       "27  http://www.chicagomag.com/Chicago-Magazine/Nov...  \n",
       "28  http://www.chicagomag.com/Chicago-Magazine/Nov...  \n",
       "29  http://www.chicagomag.com/Chicago-Magazine/Nov...  \n",
       "30  http://www.chicagomag.com/Chicago-Magazine/Nov...  \n",
       "31  http://www.chicagomag.com/Chicago-Magazine/Nov...  \n",
       "32  http://www.chicagomag.com/Chicago-Magazine/Nov...  \n",
       "33  http://www.chicagomag.com/Chicago-Magazine/Nov...  \n",
       "34  http://www.chicagomag.com/Chicago-Magazine/Nov...  \n",
       "35  http://www.chicagomag.com/Chicago-Magazine/Nov...  \n",
       "36  http://www.chicagomag.com/Chicago-Magazine/Nov...  \n",
       "37  http://www.chicagomag.com/Chicago-Magazine/Nov...  \n",
       "38  http://www.chicagomag.com/Chicago-Magazine/Nov...  \n",
       "39  http://www.chicagomag.com/Chicago-Magazine/Nov...  \n",
       "40  http://www.chicagomag.com/Chicago-Magazine/Nov...  \n",
       "41  http://www.chicagomag.com/Chicago-Magazine/Nov...  \n",
       "42  http://www.chicagomag.com/Chicago-Magazine/Nov...  \n",
       "43  http://www.chicagomag.com/Chicago-Magazine/Nov...  \n",
       "44  http://www.chicagomag.com/Chicago-Magazine/Nov...  \n",
       "45  http://www.chicagomag.com/Chicago-Magazine/Nov...  \n",
       "46  http://www.chicagomag.com/Chicago-Magazine/Nov...  \n",
       "47  http://www.chicagomag.com/Chicago-Magazine/Nov...  \n",
       "48  http://www.chicagomag.com/Chicago-Magazine/Nov...  \n",
       "49  http://www.chicagomag.com/Chicago-Magazine/Nov...  "
      ]
     },
     "execution_count": 25,
     "metadata": {},
     "output_type": "execute_result"
    }
   ],
   "source": [
    "df = pd.read_csv('data/best_sandwiches_list_chicago.csv', index_col=0)\n",
    "df"
   ]
  },
  {
   "cell_type": "code",
   "execution_count": 26,
   "metadata": {},
   "outputs": [
    {
     "data": {
      "text/plain": [
       "'https://www.chicagomag.com/Chicago-Magazine/November-2012/Best-Sandwiches-in-Chicago-Old-Oak-Tap-BLT/'"
      ]
     },
     "execution_count": 26,
     "metadata": {},
     "output_type": "execute_result"
    }
   ],
   "source": [
    "df['URL'][0]"
   ]
  },
  {
   "cell_type": "code",
   "execution_count": 27,
   "metadata": {},
   "outputs": [],
   "source": [
    "html = urlopen(df['URL'][0])\n",
    "soup_tmp = BeautifulSoup(html, \"html.parser\")\n",
    "# soup_tmp"
   ]
  },
  {
   "cell_type": "code",
   "execution_count": 28,
   "metadata": {},
   "outputs": [
    {
     "name": "stdout",
     "output_type": "stream",
     "text": [
      "<p class=\"addy\">\n",
      "<em>$10. 2109 W. Chicago Ave., 773-772-0406, <a href=\"http://www.theoldoaktap.com/\">theoldoaktap.com</a></em></p>\n"
     ]
    }
   ],
   "source": [
    "print(soup_tmp.find('p','addy'))"
   ]
  },
  {
   "cell_type": "code",
   "execution_count": 29,
   "metadata": {},
   "outputs": [
    {
     "data": {
      "text/plain": [
       "'\\n$10. 2109 W. Chicago Ave., 773-772-0406, theoldoaktap.com'"
      ]
     },
     "execution_count": 29,
     "metadata": {},
     "output_type": "execute_result"
    }
   ],
   "source": [
    "price_tmp = soup_tmp.find('p','addy').get_text()\n",
    "price_tmp"
   ]
  },
  {
   "cell_type": "code",
   "execution_count": 30,
   "metadata": {},
   "outputs": [
    {
     "data": {
      "text/plain": [
       "['$10.', '2109', 'W.', 'Chicago', 'Ave.,', '773-772-0406,', 'theoldoaktap.com']"
      ]
     },
     "execution_count": 30,
     "metadata": {},
     "output_type": "execute_result"
    }
   ],
   "source": [
    "price_tmp.split()"
   ]
  },
  {
   "cell_type": "code",
   "execution_count": 31,
   "metadata": {},
   "outputs": [
    {
     "data": {
      "text/plain": [
       "'$10.'"
      ]
     },
     "execution_count": 31,
     "metadata": {},
     "output_type": "execute_result"
    }
   ],
   "source": [
    "price_tmp.split()[0]"
   ]
  },
  {
   "cell_type": "code",
   "execution_count": 32,
   "metadata": {},
   "outputs": [
    {
     "data": {
      "text/plain": [
       "'$10'"
      ]
     },
     "execution_count": 32,
     "metadata": {},
     "output_type": "execute_result"
    }
   ],
   "source": [
    "price_tmp.split()[0][:-1]"
   ]
  },
  {
   "cell_type": "code",
   "execution_count": 33,
   "metadata": {},
   "outputs": [
    {
     "data": {
      "text/plain": [
       "'2109 W. Chicago Ave.,'"
      ]
     },
     "execution_count": 33,
     "metadata": {},
     "output_type": "execute_result"
    }
   ],
   "source": [
    "' '.join(price_tmp.split()[1:-2])"
   ]
  },
  {
   "cell_type": "code",
   "execution_count": 34,
   "metadata": {},
   "outputs": [],
   "source": [
    "# 먼저 3개만 해 봄\n",
    "price = []\n",
    "address = []\n",
    "\n",
    "for n in df.index[:3]:\n",
    "    html = urlopen(df['URL'][n])\n",
    "    soup_tmp = BeautifulSoup(html, 'lxml')\n",
    "    \n",
    "    gettings = soup_tmp.find('p','addy').get_text()\n",
    "    \n",
    "    price.append(gettings.split()[0][:-1])\n",
    "    address.append(' '.join(gettings.split()[1:-2]))"
   ]
  },
  {
   "cell_type": "code",
   "execution_count": 35,
   "metadata": {},
   "outputs": [
    {
     "data": {
      "text/plain": [
       "['$10', '$9', '$9.50']"
      ]
     },
     "execution_count": 35,
     "metadata": {},
     "output_type": "execute_result"
    }
   ],
   "source": [
    "price"
   ]
  },
  {
   "cell_type": "code",
   "execution_count": 36,
   "metadata": {},
   "outputs": [
    {
     "data": {
      "text/plain": [
       "['2109 W. Chicago Ave.,', '800 W. Randolph St.,', '445 N. Clark St.,']"
      ]
     },
     "execution_count": 36,
     "metadata": {},
     "output_type": "execute_result"
    }
   ],
   "source": [
    "address"
   ]
  },
  {
   "cell_type": "markdown",
   "metadata": {},
   "source": [
    "### 4. 주피터 노트북에서 상태 진행바를 쉽게 만들어주는 tqdm 모듈"
   ]
  },
  {
   "cell_type": "code",
   "execution_count": 7,
   "metadata": {},
   "outputs": [],
   "source": [
    "from tqdm.notebook import tqdm"
   ]
  },
  {
   "cell_type": "code",
   "execution_count": 38,
   "metadata": {},
   "outputs": [
    {
     "data": {
      "application/vnd.jupyter.widget-view+json": {
       "model_id": "fcd16e1b38c44d95ba0b7cc6d9a72175",
       "version_major": 2,
       "version_minor": 0
      },
      "text/plain": [
       "HBox(children=(FloatProgress(value=0.0, max=50.0), HTML(value='')))"
      ]
     },
     "metadata": {},
     "output_type": "display_data"
    },
    {
     "name": "stdout",
     "output_type": "stream",
     "text": [
      "\n"
     ]
    }
   ],
   "source": [
    "price = []\n",
    "address = []\n",
    "\n",
    "for n in tqdm(df.index):\n",
    "    html = urlopen(df['URL'][n])\n",
    "    soup_tmp = BeautifulSoup(html, 'lxml')\n",
    "    \n",
    "    gettings = soup_tmp.find('p','addy').get_text()\n",
    "#     print(gettings)\n",
    "    price.append(gettings.split()[0][:-1])\n",
    "    address.append(' '.join(gettings.split()[1:-2]))"
   ]
  },
  {
   "cell_type": "code",
   "execution_count": 39,
   "metadata": {},
   "outputs": [
    {
     "data": {
      "text/plain": [
       "(50, 50, 50)"
      ]
     },
     "execution_count": 39,
     "metadata": {},
     "output_type": "execute_result"
    }
   ],
   "source": [
    "len(price), len(address), len(df)"
   ]
  },
  {
   "cell_type": "code",
   "execution_count": 40,
   "metadata": {},
   "outputs": [
    {
     "data": {
      "text/html": [
       "<div>\n",
       "<style scoped>\n",
       "    .dataframe tbody tr th:only-of-type {\n",
       "        vertical-align: middle;\n",
       "    }\n",
       "\n",
       "    .dataframe tbody tr th {\n",
       "        vertical-align: top;\n",
       "    }\n",
       "\n",
       "    .dataframe thead th {\n",
       "        text-align: right;\n",
       "    }\n",
       "</style>\n",
       "<table border=\"1\" class=\"dataframe\">\n",
       "  <thead>\n",
       "    <tr style=\"text-align: right;\">\n",
       "      <th></th>\n",
       "      <th>Cafe</th>\n",
       "      <th>Menu</th>\n",
       "      <th>Price</th>\n",
       "      <th>Address</th>\n",
       "    </tr>\n",
       "    <tr>\n",
       "      <th>Rank</th>\n",
       "      <th></th>\n",
       "      <th></th>\n",
       "      <th></th>\n",
       "      <th></th>\n",
       "    </tr>\n",
       "  </thead>\n",
       "  <tbody>\n",
       "    <tr>\n",
       "      <th>1</th>\n",
       "      <td>Old Oak Tap</td>\n",
       "      <td>BLT</td>\n",
       "      <td>$10</td>\n",
       "      <td>2109 W. Chicago Ave.,</td>\n",
       "    </tr>\n",
       "    <tr>\n",
       "      <th>2</th>\n",
       "      <td>Au Cheval</td>\n",
       "      <td>Fried Bologna</td>\n",
       "      <td>$9</td>\n",
       "      <td>800 W. Randolph St.,</td>\n",
       "    </tr>\n",
       "    <tr>\n",
       "      <th>3</th>\n",
       "      <td>Xoco</td>\n",
       "      <td>Woodland Mushroom</td>\n",
       "      <td>$9.50</td>\n",
       "      <td>445 N. Clark St.,</td>\n",
       "    </tr>\n",
       "    <tr>\n",
       "      <th>4</th>\n",
       "      <td>Al’s Deli</td>\n",
       "      <td>Roast Beef</td>\n",
       "      <td>$9.40</td>\n",
       "      <td>914 Noyes St., Evanston,</td>\n",
       "    </tr>\n",
       "    <tr>\n",
       "      <th>5</th>\n",
       "      <td>Publican Quality Meats</td>\n",
       "      <td>PB&amp;L</td>\n",
       "      <td>$10</td>\n",
       "      <td>825 W. Fulton Mkt.,</td>\n",
       "    </tr>\n",
       "  </tbody>\n",
       "</table>\n",
       "</div>"
      ],
      "text/plain": [
       "                        Cafe               Menu  Price  \\\n",
       "Rank                                                     \n",
       "1                Old Oak Tap                BLT    $10   \n",
       "2                  Au Cheval      Fried Bologna     $9   \n",
       "3                       Xoco  Woodland Mushroom  $9.50   \n",
       "4                  Al’s Deli         Roast Beef  $9.40   \n",
       "5     Publican Quality Meats               PB&L    $10   \n",
       "\n",
       "                       Address  \n",
       "Rank                            \n",
       "1        2109 W. Chicago Ave.,  \n",
       "2         800 W. Randolph St.,  \n",
       "3            445 N. Clark St.,  \n",
       "4     914 Noyes St., Evanston,  \n",
       "5          825 W. Fulton Mkt.,  "
      ]
     },
     "execution_count": 40,
     "metadata": {},
     "output_type": "execute_result"
    }
   ],
   "source": [
    "df['Price'] = price\n",
    "df['Address'] = address\n",
    "\n",
    "df = df.loc[:, ['Rank','Cafe','Menu','Price','Address']]\n",
    "df.set_index('Rank', inplace=True)\n",
    "df.head()"
   ]
  },
  {
   "cell_type": "code",
   "execution_count": 41,
   "metadata": {},
   "outputs": [],
   "source": [
    "df.to_csv('data/best_sandwiches_list_chicago2.csv', sep =',', encoding='utf-8-sig')"
   ]
  },
  {
   "cell_type": "markdown",
   "metadata": {},
   "source": [
    "### 5. 맛집 위치를 지도에 표기하기"
   ]
  },
  {
   "cell_type": "code",
   "execution_count": 2,
   "metadata": {},
   "outputs": [],
   "source": [
    "import folium\n",
    "import pandas as pd\n",
    "import googlemaps\n",
    "import numpy as np"
   ]
  },
  {
   "cell_type": "code",
   "execution_count": 3,
   "metadata": {},
   "outputs": [
    {
     "data": {
      "text/html": [
       "<div>\n",
       "<style scoped>\n",
       "    .dataframe tbody tr th:only-of-type {\n",
       "        vertical-align: middle;\n",
       "    }\n",
       "\n",
       "    .dataframe tbody tr th {\n",
       "        vertical-align: top;\n",
       "    }\n",
       "\n",
       "    .dataframe thead th {\n",
       "        text-align: right;\n",
       "    }\n",
       "</style>\n",
       "<table border=\"1\" class=\"dataframe\">\n",
       "  <thead>\n",
       "    <tr style=\"text-align: right;\">\n",
       "      <th></th>\n",
       "      <th>Cafe</th>\n",
       "      <th>Menu</th>\n",
       "      <th>Price</th>\n",
       "      <th>Address</th>\n",
       "    </tr>\n",
       "    <tr>\n",
       "      <th>Rank</th>\n",
       "      <th></th>\n",
       "      <th></th>\n",
       "      <th></th>\n",
       "      <th></th>\n",
       "    </tr>\n",
       "  </thead>\n",
       "  <tbody>\n",
       "    <tr>\n",
       "      <th>1</th>\n",
       "      <td>Old Oak Tap</td>\n",
       "      <td>BLT</td>\n",
       "      <td>$10</td>\n",
       "      <td>2109 W. Chicago Ave.,</td>\n",
       "    </tr>\n",
       "    <tr>\n",
       "      <th>2</th>\n",
       "      <td>Au Cheval</td>\n",
       "      <td>Fried Bologna</td>\n",
       "      <td>$9</td>\n",
       "      <td>800 W. Randolph St.,</td>\n",
       "    </tr>\n",
       "    <tr>\n",
       "      <th>3</th>\n",
       "      <td>Xoco</td>\n",
       "      <td>Woodland Mushroom</td>\n",
       "      <td>$9.50</td>\n",
       "      <td>445 N. Clark St.,</td>\n",
       "    </tr>\n",
       "    <tr>\n",
       "      <th>4</th>\n",
       "      <td>Al’s Deli</td>\n",
       "      <td>Roast Beef</td>\n",
       "      <td>$9.40</td>\n",
       "      <td>914 Noyes St., Evanston,</td>\n",
       "    </tr>\n",
       "    <tr>\n",
       "      <th>5</th>\n",
       "      <td>Publican Quality Meats</td>\n",
       "      <td>PB&amp;L</td>\n",
       "      <td>$10</td>\n",
       "      <td>825 W. Fulton Mkt.,</td>\n",
       "    </tr>\n",
       "  </tbody>\n",
       "</table>\n",
       "</div>"
      ],
      "text/plain": [
       "                        Cafe               Menu  Price  \\\n",
       "Rank                                                     \n",
       "1                Old Oak Tap                BLT    $10   \n",
       "2                  Au Cheval      Fried Bologna     $9   \n",
       "3                       Xoco  Woodland Mushroom  $9.50   \n",
       "4                  Al’s Deli         Roast Beef  $9.40   \n",
       "5     Publican Quality Meats               PB&L    $10   \n",
       "\n",
       "                       Address  \n",
       "Rank                            \n",
       "1        2109 W. Chicago Ave.,  \n",
       "2         800 W. Randolph St.,  \n",
       "3            445 N. Clark St.,  \n",
       "4     914 Noyes St., Evanston,  \n",
       "5          825 W. Fulton Mkt.,  "
      ]
     },
     "execution_count": 3,
     "metadata": {},
     "output_type": "execute_result"
    }
   ],
   "source": [
    "df = pd.read_csv('data/best_sandwiches_list_chicago2.csv', index_col=0)\n",
    "df.head(5)"
   ]
  },
  {
   "cell_type": "code",
   "execution_count": 5,
   "metadata": {},
   "outputs": [],
   "source": [
    "gmaps_key = '*************************'\n",
    "gmaps = googlemaps.Client(key=gmaps_key)"
   ]
  },
  {
   "cell_type": "code",
   "execution_count": 13,
   "metadata": {},
   "outputs": [
    {
     "data": {
      "application/vnd.jupyter.widget-view+json": {
       "model_id": "e7ab385757ae4bffb0a635c59f0d4f6a",
       "version_major": 2,
       "version_minor": 0
      },
      "text/plain": [
       "HBox(children=(FloatProgress(value=0.0, max=50.0), HTML(value='')))"
      ]
     },
     "metadata": {},
     "output_type": "display_data"
    },
    {
     "name": "stdout",
     "output_type": "stream",
     "text": [
      "\n"
     ]
    },
    {
     "data": {
      "text/html": [
       "<div>\n",
       "<style scoped>\n",
       "    .dataframe tbody tr th:only-of-type {\n",
       "        vertical-align: middle;\n",
       "    }\n",
       "\n",
       "    .dataframe tbody tr th {\n",
       "        vertical-align: top;\n",
       "    }\n",
       "\n",
       "    .dataframe thead th {\n",
       "        text-align: right;\n",
       "    }\n",
       "</style>\n",
       "<table border=\"1\" class=\"dataframe\">\n",
       "  <thead>\n",
       "    <tr style=\"text-align: right;\">\n",
       "      <th></th>\n",
       "      <th>Cafe</th>\n",
       "      <th>Menu</th>\n",
       "      <th>Price</th>\n",
       "      <th>Address</th>\n",
       "      <th>lat</th>\n",
       "      <th>lng</th>\n",
       "    </tr>\n",
       "    <tr>\n",
       "      <th>Rank</th>\n",
       "      <th></th>\n",
       "      <th></th>\n",
       "      <th></th>\n",
       "      <th></th>\n",
       "      <th></th>\n",
       "      <th></th>\n",
       "    </tr>\n",
       "  </thead>\n",
       "  <tbody>\n",
       "    <tr>\n",
       "      <th>1</th>\n",
       "      <td>Old Oak Tap</td>\n",
       "      <td>BLT</td>\n",
       "      <td>$10</td>\n",
       "      <td>2109 W. Chicago Ave.,</td>\n",
       "      <td>41.895605</td>\n",
       "      <td>-87.679961</td>\n",
       "    </tr>\n",
       "    <tr>\n",
       "      <th>2</th>\n",
       "      <td>Au Cheval</td>\n",
       "      <td>Fried Bologna</td>\n",
       "      <td>$9</td>\n",
       "      <td>800 W. Randolph St.,</td>\n",
       "      <td>41.884658</td>\n",
       "      <td>-87.647667</td>\n",
       "    </tr>\n",
       "    <tr>\n",
       "      <th>3</th>\n",
       "      <td>Xoco</td>\n",
       "      <td>Woodland Mushroom</td>\n",
       "      <td>$9.50</td>\n",
       "      <td>445 N. Clark St.,</td>\n",
       "      <td>41.890523</td>\n",
       "      <td>-87.630783</td>\n",
       "    </tr>\n",
       "    <tr>\n",
       "      <th>4</th>\n",
       "      <td>Al’s Deli</td>\n",
       "      <td>Roast Beef</td>\n",
       "      <td>$9.40</td>\n",
       "      <td>914 Noyes St., Evanston,</td>\n",
       "      <td>42.058322</td>\n",
       "      <td>-87.683748</td>\n",
       "    </tr>\n",
       "    <tr>\n",
       "      <th>5</th>\n",
       "      <td>Publican Quality Meats</td>\n",
       "      <td>PB&amp;L</td>\n",
       "      <td>$10</td>\n",
       "      <td>825 W. Fulton Mkt.,</td>\n",
       "      <td>41.886600</td>\n",
       "      <td>-87.648451</td>\n",
       "    </tr>\n",
       "  </tbody>\n",
       "</table>\n",
       "</div>"
      ],
      "text/plain": [
       "                        Cafe               Menu  Price  \\\n",
       "Rank                                                     \n",
       "1                Old Oak Tap                BLT    $10   \n",
       "2                  Au Cheval      Fried Bologna     $9   \n",
       "3                       Xoco  Woodland Mushroom  $9.50   \n",
       "4                  Al’s Deli         Roast Beef  $9.40   \n",
       "5     Publican Quality Meats               PB&L    $10   \n",
       "\n",
       "                       Address        lat        lng  \n",
       "Rank                                                  \n",
       "1        2109 W. Chicago Ave.,  41.895605 -87.679961  \n",
       "2         800 W. Randolph St.,  41.884658 -87.647667  \n",
       "3            445 N. Clark St.,  41.890523 -87.630783  \n",
       "4     914 Noyes St., Evanston,  42.058322 -87.683748  \n",
       "5          825 W. Fulton Mkt.,  41.886600 -87.648451  "
      ]
     },
     "execution_count": 13,
     "metadata": {},
     "output_type": "execute_result"
    }
   ],
   "source": [
    "lat = []\n",
    "lng = []\n",
    "for n in tqdm(df.index):\n",
    "    if df['Address'][n] != 'Multiple':\n",
    "        target_name = df['Address'][n]+ ', ' + 'Chicago'\n",
    "        gmaps_output = gmaps.geocode(target_name)\n",
    "        location_output = gmaps_output[0].get('geometry')\n",
    "        lat.append(location_output['location']['lat'])\n",
    "        lng.append(location_output['location']['lng'])\n",
    "    \n",
    "    else:\n",
    "        lat.append(np.nan)\n",
    "        lng.append(np.nan)\n",
    "    \t\n",
    "df['lat'] = lat\n",
    "df['lng'] = lng\n",
    "df.head()"
   ]
  },
  {
   "cell_type": "code",
   "execution_count": 16,
   "metadata": {
    "collapsed": true
   },
   "outputs": [
    {
     "data": {
      "text/html": [
       "<div style=\"width:100%;\"><div style=\"position:relative;width:100%;height:0;padding-bottom:60%;\"><iframe src=\"about:blank\" style=\"position:absolute;width:100%;height:100%;left:0;top:0;border:none !important;\" data-html=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 onload=\"this.contentDocument.open();this.contentDocument.write(atob(this.getAttribute('data-html')));this.contentDocument.close();\" allowfullscreen webkitallowfullscreen mozallowfullscreen></iframe></div></div>"
      ],
      "text/plain": [
       "<folium.folium.Map at 0x6ce1716080>"
      ]
     },
     "execution_count": 16,
     "metadata": {},
     "output_type": "execute_result"
    }
   ],
   "source": [
    "mapping = folium.Map(location=[df['lat'].mean(), df['lng'].mean()], zoom_start=11)\n",
    "folium.Marker([df['lat'].mean(), df['lng'].mean()],popup='center').add_to(mapping)\n",
    "mapping"
   ]
  },
  {
   "cell_type": "code",
   "execution_count": 18,
   "metadata": {
    "collapsed": true
   },
   "outputs": [
    {
     "data": {
      "text/html": [
       "<div style=\"width:100%;\"><div style=\"position:relative;width:100%;height:0;padding-bottom:60%;\"><iframe src=\"about:blank\" style=\"position:absolute;width:100%;height:100%;left:0;top:0;border:none !important;\" data-html=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 onload=\"this.contentDocument.open();this.contentDocument.write(atob(this.getAttribute('data-html')));this.contentDocument.close();\" allowfullscreen webkitallowfullscreen mozallowfullscreen></iframe></div></div>"
      ],
      "text/plain": [
       "<folium.folium.Map at 0x6ce17c3080>"
      ]
     },
     "execution_count": 18,
     "metadata": {},
     "output_type": "execute_result"
    }
   ],
   "source": [
    "mapping = folium.Map(location=[df['lat'].mean(), df['lng'].mean()], zoom_start=11)\n",
    "\n",
    "for n in df.index:\n",
    "    if df['Address'][n] != 'Multiple':\n",
    "        folium.Marker([df['lat'][n], df['lng'][n]], popup=df['Cafe'][n]).add_to(mapping)\n",
    "\n",
    "mapping"
   ]
  },
  {
   "cell_type": "code",
   "execution_count": null,
   "metadata": {},
   "outputs": [],
   "source": []
  }
 ],
 "metadata": {
  "kernelspec": {
   "display_name": "Python 3",
   "language": "python",
   "name": "python3"
  },
  "language_info": {
   "codemirror_mode": {
    "name": "ipython",
    "version": 3
   },
   "file_extension": ".py",
   "mimetype": "text/x-python",
   "name": "python",
   "nbconvert_exporter": "python",
   "pygments_lexer": "ipython3",
   "version": "3.7.3"
  }
 },
 "nbformat": 4,
 "nbformat_minor": 2
}
